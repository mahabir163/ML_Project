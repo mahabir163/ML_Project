{
 "cells": [
  {
   "cell_type": "markdown",
   "id": "96dbd13d",
   "metadata": {},
   "source": [
    "**Cryptocurrency Liquidity Prediction for Market Stability**"
   ]
  },
  {
   "cell_type": "markdown",
   "id": "bd920c36",
   "metadata": {},
   "source": [
    "**Life Cycle Of ML Project**\n",
    "1. Understanding the problem statement\n",
    "2. Data collection\n",
    "3. Data checks to perform\n",
    "4. Adding new feature(if any) \n",
    "5. EDA\n",
    "6. Data pre-processing\n",
    "7. Model training\n",
    "8. Choose the best model"
   ]
  },
  {
   "cell_type": "markdown",
   "id": "b10d5d89",
   "metadata": {},
   "source": [
    "**1. Problem Statement :**\n",
    "Cryptocurrency markets are highly volatile, and liquidity plays a crucial role in market stability. Liquidity refers to\n",
    "the ease with which assets can be bought or sold without significantly impacting the price. A lack of liquidity\n",
    "can lead to increased price fluctuations and market instability.\n",
    "\n",
    "\n",
    "In this project, I am to build a machine learning model to predict cryptocurrency liquidity levels\n",
    "based on various market factors such as trading volume, transaction patterns, exchange listings, and social\n",
    "media activity. The objective is to detect liquidity crises early to help traders and exchange platforms\n",
    "manage risks effectively.\n",
    "\n",
    "\n",
    "Your final model should provide insights into market stability by forecasting liquidity variations, allowing\n",
    "traders and financial institutions to make informed decisions"
   ]
  },
  {
   "cell_type": "markdown",
   "id": "1889720e",
   "metadata": {},
   "source": [
    "**2. Data Collection**\n",
    "* Dataset Source - The dataset consists of records from 2016 and 2017.\n",
    "\n",
    "Dataset : - https://drive.google.com/drive/folders/10BRgPip2Zj_56is3DilJCowjfyT6E9AM"
   ]
  },
  {
   "cell_type": "markdown",
   "id": "29a2e86e",
   "metadata": {},
   "source": [
    "2.1 Import Data and requried packages"
   ]
  },
  {
   "cell_type": "code",
   "execution_count": 1,
   "id": "177f4ecf",
   "metadata": {},
   "outputs": [],
   "source": [
    "import pandas as pd\n",
    "import numpy as np\n",
    "import seaborn as sns\n",
    "import matplotlib.pyplot as plt\n",
    "import warnings\n",
    "warnings.filterwarnings(\"ignore\")"
   ]
  },
  {
   "cell_type": "markdown",
   "id": "4dc13d7b",
   "metadata": {},
   "source": [
    "Import Data set"
   ]
  },
  {
   "cell_type": "code",
   "execution_count": 2,
   "id": "a4a72d51",
   "metadata": {},
   "outputs": [],
   "source": [
    "df = pd.read_csv(\"E:/Users/USER/Desktop/DataAnalyticsAndgenAI/ML Project/ML Project/notebook/data/coin_gecko_2022_03_17.csv\")"
   ]
  },
  {
   "cell_type": "markdown",
   "id": "4c204036",
   "metadata": {},
   "source": [
    "Show Top 5 Records and Random Records"
   ]
  },
  {
   "cell_type": "code",
   "execution_count": 3,
   "id": "e6c8ea1e",
   "metadata": {},
   "outputs": [
    {
     "data": {
      "text/html": [
       "<div>\n",
       "<style scoped>\n",
       "    .dataframe tbody tr th:only-of-type {\n",
       "        vertical-align: middle;\n",
       "    }\n",
       "\n",
       "    .dataframe tbody tr th {\n",
       "        vertical-align: top;\n",
       "    }\n",
       "\n",
       "    .dataframe thead th {\n",
       "        text-align: right;\n",
       "    }\n",
       "</style>\n",
       "<table border=\"1\" class=\"dataframe\">\n",
       "  <thead>\n",
       "    <tr style=\"text-align: right;\">\n",
       "      <th></th>\n",
       "      <th>coin</th>\n",
       "      <th>symbol</th>\n",
       "      <th>price</th>\n",
       "      <th>1h</th>\n",
       "      <th>24h</th>\n",
       "      <th>7d</th>\n",
       "      <th>24h_volume</th>\n",
       "      <th>mkt_cap</th>\n",
       "      <th>date</th>\n",
       "    </tr>\n",
       "  </thead>\n",
       "  <tbody>\n",
       "    <tr>\n",
       "      <th>0</th>\n",
       "      <td>Bitcoin</td>\n",
       "      <td>BTC</td>\n",
       "      <td>40851.380000</td>\n",
       "      <td>0.001</td>\n",
       "      <td>0.000</td>\n",
       "      <td>-0.027</td>\n",
       "      <td>2.047612e+10</td>\n",
       "      <td>7.760774e+11</td>\n",
       "      <td>2022-03-17</td>\n",
       "    </tr>\n",
       "    <tr>\n",
       "      <th>1</th>\n",
       "      <td>Ethereum</td>\n",
       "      <td>ETH</td>\n",
       "      <td>2824.420000</td>\n",
       "      <td>0.004</td>\n",
       "      <td>0.029</td>\n",
       "      <td>0.034</td>\n",
       "      <td>1.364041e+10</td>\n",
       "      <td>3.390772e+11</td>\n",
       "      <td>2022-03-17</td>\n",
       "    </tr>\n",
       "    <tr>\n",
       "      <th>2</th>\n",
       "      <td>Tether</td>\n",
       "      <td>USDT</td>\n",
       "      <td>1.000000</td>\n",
       "      <td>-0.000</td>\n",
       "      <td>0.000</td>\n",
       "      <td>0.000</td>\n",
       "      <td>4.413140e+10</td>\n",
       "      <td>8.020588e+10</td>\n",
       "      <td>2022-03-17</td>\n",
       "    </tr>\n",
       "    <tr>\n",
       "      <th>3</th>\n",
       "      <td>BNB</td>\n",
       "      <td>BNB</td>\n",
       "      <td>389.610000</td>\n",
       "      <td>0.002</td>\n",
       "      <td>0.016</td>\n",
       "      <td>-0.010</td>\n",
       "      <td>1.425354e+09</td>\n",
       "      <td>6.556116e+10</td>\n",
       "      <td>2022-03-17</td>\n",
       "    </tr>\n",
       "    <tr>\n",
       "      <th>4</th>\n",
       "      <td>USD Coin</td>\n",
       "      <td>USDC</td>\n",
       "      <td>0.999739</td>\n",
       "      <td>-0.001</td>\n",
       "      <td>0.000</td>\n",
       "      <td>-0.000</td>\n",
       "      <td>3.569816e+09</td>\n",
       "      <td>5.259607e+10</td>\n",
       "      <td>2022-03-17</td>\n",
       "    </tr>\n",
       "  </tbody>\n",
       "</table>\n",
       "</div>"
      ],
      "text/plain": [
       "       coin symbol         price     1h    24h     7d    24h_volume  \\\n",
       "0   Bitcoin    BTC  40851.380000  0.001  0.000 -0.027  2.047612e+10   \n",
       "1  Ethereum    ETH   2824.420000  0.004  0.029  0.034  1.364041e+10   \n",
       "2    Tether   USDT      1.000000 -0.000  0.000  0.000  4.413140e+10   \n",
       "3       BNB    BNB    389.610000  0.002  0.016 -0.010  1.425354e+09   \n",
       "4  USD Coin   USDC      0.999739 -0.001  0.000 -0.000  3.569816e+09   \n",
       "\n",
       "        mkt_cap        date  \n",
       "0  7.760774e+11  2022-03-17  \n",
       "1  3.390772e+11  2022-03-17  \n",
       "2  8.020588e+10  2022-03-17  \n",
       "3  6.556116e+10  2022-03-17  \n",
       "4  5.259607e+10  2022-03-17  "
      ]
     },
     "execution_count": 3,
     "metadata": {},
     "output_type": "execute_result"
    }
   ],
   "source": [
    "df.head(5)"
   ]
  },
  {
   "cell_type": "code",
   "execution_count": 4,
   "id": "4765d043",
   "metadata": {},
   "outputs": [
    {
     "data": {
      "text/html": [
       "<div>\n",
       "<style scoped>\n",
       "    .dataframe tbody tr th:only-of-type {\n",
       "        vertical-align: middle;\n",
       "    }\n",
       "\n",
       "    .dataframe tbody tr th {\n",
       "        vertical-align: top;\n",
       "    }\n",
       "\n",
       "    .dataframe thead th {\n",
       "        text-align: right;\n",
       "    }\n",
       "</style>\n",
       "<table border=\"1\" class=\"dataframe\">\n",
       "  <thead>\n",
       "    <tr style=\"text-align: right;\">\n",
       "      <th></th>\n",
       "      <th>coin</th>\n",
       "      <th>symbol</th>\n",
       "      <th>price</th>\n",
       "      <th>1h</th>\n",
       "      <th>24h</th>\n",
       "      <th>7d</th>\n",
       "      <th>24h_volume</th>\n",
       "      <th>mkt_cap</th>\n",
       "      <th>date</th>\n",
       "    </tr>\n",
       "  </thead>\n",
       "  <tbody>\n",
       "    <tr>\n",
       "      <th>204</th>\n",
       "      <td>Ronin</td>\n",
       "      <td>RON</td>\n",
       "      <td>1.930000</td>\n",
       "      <td>0.000</td>\n",
       "      <td>0.036</td>\n",
       "      <td>-0.039</td>\n",
       "      <td>2336649.0</td>\n",
       "      <td>285584777.0</td>\n",
       "      <td>2022-03-17</td>\n",
       "    </tr>\n",
       "    <tr>\n",
       "      <th>356</th>\n",
       "      <td>DEAPCOIN</td>\n",
       "      <td>DEP</td>\n",
       "      <td>0.027102</td>\n",
       "      <td>-0.008</td>\n",
       "      <td>-0.018</td>\n",
       "      <td>-0.159</td>\n",
       "      <td>5123322.0</td>\n",
       "      <td>126235341.0</td>\n",
       "      <td>2022-03-17</td>\n",
       "    </tr>\n",
       "  </tbody>\n",
       "</table>\n",
       "</div>"
      ],
      "text/plain": [
       "         coin symbol     price     1h    24h     7d  24h_volume      mkt_cap  \\\n",
       "204     Ronin    RON  1.930000  0.000  0.036 -0.039   2336649.0  285584777.0   \n",
       "356  DEAPCOIN    DEP  0.027102 -0.008 -0.018 -0.159   5123322.0  126235341.0   \n",
       "\n",
       "           date  \n",
       "204  2022-03-17  \n",
       "356  2022-03-17  "
      ]
     },
     "execution_count": 4,
     "metadata": {},
     "output_type": "execute_result"
    }
   ],
   "source": [
    "df.sample(2)"
   ]
  },
  {
   "cell_type": "markdown",
   "id": "b11f4ab2",
   "metadata": {},
   "source": [
    "**3. Data Checks To Perform**"
   ]
  },
  {
   "cell_type": "markdown",
   "id": "a02fc957",
   "metadata": {},
   "source": [
    "* Shape of dataset\n",
    "* Check missing values\n",
    "* Check duplicates\n",
    "* Check data type\n",
    "* Check the number of unique values of each columns\n",
    "* Check statistics of dataset\n",
    "* Define numerical and categorical column"
   ]
  },
  {
   "cell_type": "markdown",
   "id": "710b4f70",
   "metadata": {},
   "source": [
    "3.1 Shape of dataset"
   ]
  },
  {
   "cell_type": "code",
   "execution_count": 5,
   "id": "a32c1b8e",
   "metadata": {},
   "outputs": [
    {
     "data": {
      "text/plain": [
       "(500, 9)"
      ]
     },
     "execution_count": 5,
     "metadata": {},
     "output_type": "execute_result"
    }
   ],
   "source": [
    "df.shape"
   ]
  },
  {
   "cell_type": "markdown",
   "id": "01f72154",
   "metadata": {},
   "source": [
    "3.2 Check missing values"
   ]
  },
  {
   "cell_type": "code",
   "execution_count": 6,
   "id": "4727882c",
   "metadata": {},
   "outputs": [
    {
     "data": {
      "text/plain": [
       "coin          0\n",
       "symbol        0\n",
       "price         0\n",
       "1h            4\n",
       "24h           4\n",
       "7d            5\n",
       "24h_volume    4\n",
       "mkt_cap       0\n",
       "date          0\n",
       "dtype: int64"
      ]
     },
     "execution_count": 6,
     "metadata": {},
     "output_type": "execute_result"
    }
   ],
   "source": [
    "df.isna().sum()"
   ]
  },
  {
   "cell_type": "markdown",
   "id": "6a6011c6",
   "metadata": {},
   "source": [
    "Action: Since there are only a few missing values, I removed the records (rows) containing NULL values"
   ]
  },
  {
   "cell_type": "code",
   "execution_count": 7,
   "id": "14d79370",
   "metadata": {},
   "outputs": [],
   "source": [
    "df.dropna(axis=0,inplace=True)"
   ]
  },
  {
   "cell_type": "code",
   "execution_count": 8,
   "id": "10cfbd74",
   "metadata": {},
   "outputs": [
    {
     "data": {
      "text/plain": [
       "(495, 9)"
      ]
     },
     "execution_count": 8,
     "metadata": {},
     "output_type": "execute_result"
    }
   ],
   "source": [
    "df.shape"
   ]
  },
  {
   "cell_type": "code",
   "execution_count": 9,
   "id": "b9722e98",
   "metadata": {},
   "outputs": [],
   "source": [
    "df = df.reset_index()"
   ]
  },
  {
   "cell_type": "code",
   "execution_count": 10,
   "id": "5193304b",
   "metadata": {},
   "outputs": [],
   "source": [
    "df.drop(\"index\",axis=1,inplace=True)"
   ]
  },
  {
   "cell_type": "markdown",
   "id": "18ae14c2",
   "metadata": {},
   "source": [
    "3.3 Check duplicates"
   ]
  },
  {
   "cell_type": "code",
   "execution_count": 11,
   "id": "da5c7f70",
   "metadata": {},
   "outputs": [
    {
     "data": {
      "text/plain": [
       "0"
      ]
     },
     "execution_count": 11,
     "metadata": {},
     "output_type": "execute_result"
    }
   ],
   "source": [
    "df.duplicated().sum()"
   ]
  },
  {
   "cell_type": "markdown",
   "id": "b9c5c3d3",
   "metadata": {},
   "source": [
    "Action: No action required because all records are unique"
   ]
  },
  {
   "cell_type": "markdown",
   "id": "48317ba7",
   "metadata": {},
   "source": [
    "3.4 Check data type"
   ]
  },
  {
   "cell_type": "code",
   "execution_count": 12,
   "id": "bf64c6fe",
   "metadata": {},
   "outputs": [
    {
     "data": {
      "text/plain": [
       "coin           object\n",
       "symbol         object\n",
       "price         float64\n",
       "1h            float64\n",
       "24h           float64\n",
       "7d            float64\n",
       "24h_volume    float64\n",
       "mkt_cap       float64\n",
       "date           object\n",
       "dtype: object"
      ]
     },
     "execution_count": 12,
     "metadata": {},
     "output_type": "execute_result"
    }
   ],
   "source": [
    "df.dtypes"
   ]
  },
  {
   "cell_type": "markdown",
   "id": "c9f3b8e1",
   "metadata": {},
   "source": [
    "Note : All data types are correct"
   ]
  },
  {
   "cell_type": "markdown",
   "id": "c29a3f80",
   "metadata": {},
   "source": [
    "3.5 Check the number of unique values of each columns"
   ]
  },
  {
   "cell_type": "code",
   "execution_count": 13,
   "id": "8b8c97ec",
   "metadata": {},
   "outputs": [],
   "source": [
    "def check_unique_value(column):\n",
    "    print(\"Column name:\",str(column),df[column].unique)\n",
    "    print(\"Total number of unique values: \",df[column].nunique())\n",
    "    print(\"--------------------\")"
   ]
  },
  {
   "cell_type": "code",
   "execution_count": 14,
   "id": "da037cf8",
   "metadata": {},
   "outputs": [
    {
     "name": "stdout",
     "output_type": "stream",
     "text": [
      "Column name: coin <bound method Series.unique of 0                Bitcoin\n",
      "1               Ethereum\n",
      "2                 Tether\n",
      "3                    BNB\n",
      "4               USD Coin\n",
      "             ...        \n",
      "490              IRISnet\n",
      "491    Circuits of Value\n",
      "492           ARPA Chain\n",
      "493            SuperRare\n",
      "494           Verus Coin\n",
      "Name: coin, Length: 495, dtype: object>\n",
      "Total number of unique values:  495\n",
      "--------------------\n",
      "Column name: symbol <bound method Series.unique of 0        BTC\n",
      "1        ETH\n",
      "2       USDT\n",
      "3        BNB\n",
      "4       USDC\n",
      "       ...  \n",
      "490     IRIS\n",
      "491    COVAL\n",
      "492     ARPA\n",
      "493     RARE\n",
      "494     VRSC\n",
      "Name: symbol, Length: 495, dtype: object>\n",
      "Total number of unique values:  492\n",
      "--------------------\n",
      "Column name: price <bound method Series.unique of 0      40851.380000\n",
      "1       2824.420000\n",
      "2          1.000000\n",
      "3        389.610000\n",
      "4          0.999739\n",
      "           ...     \n",
      "490        0.055426\n",
      "491        0.037961\n",
      "492        0.069003\n",
      "493        0.464613\n",
      "494        0.999387\n",
      "Name: price, Length: 495, dtype: float64>\n",
      "Total number of unique values:  464\n",
      "--------------------\n",
      "Column name: 1h <bound method Series.unique of 0      0.001\n",
      "1      0.004\n",
      "2     -0.000\n",
      "3      0.002\n",
      "4     -0.001\n",
      "       ...  \n",
      "490    0.016\n",
      "491    0.002\n",
      "492   -0.000\n",
      "493   -0.003\n",
      "494    0.053\n",
      "Name: 1h, Length: 495, dtype: float64>\n",
      "Total number of unique values:  50\n",
      "--------------------\n",
      "Column name: 24h <bound method Series.unique of 0      0.000\n",
      "1      0.029\n",
      "2      0.000\n",
      "3      0.016\n",
      "4      0.000\n",
      "       ...  \n",
      "490   -0.003\n",
      "491   -0.012\n",
      "492    0.008\n",
      "493    0.014\n",
      "494    0.061\n",
      "Name: 24h, Length: 495, dtype: float64>\n",
      "Total number of unique values:  147\n",
      "--------------------\n",
      "Column name: 7d <bound method Series.unique of 0     -0.027\n",
      "1      0.034\n",
      "2      0.000\n",
      "3     -0.010\n",
      "4     -0.000\n",
      "       ...  \n",
      "490   -0.088\n",
      "491   -0.054\n",
      "492   -0.037\n",
      "493    0.019\n",
      "494   -0.122\n",
      "Name: 7d, Length: 495, dtype: float64>\n",
      "Total number of unique values:  228\n",
      "--------------------\n",
      "Column name: 24h_volume <bound method Series.unique of 0      2.047612e+10\n",
      "1      1.364041e+10\n",
      "2      4.413140e+10\n",
      "3      1.425354e+09\n",
      "4      3.569816e+09\n",
      "           ...     \n",
      "490    2.976839e+06\n",
      "491    3.667870e+05\n",
      "492    1.363376e+07\n",
      "493    9.398219e+06\n",
      "494    2.027507e+04\n",
      "Name: 24h_volume, Length: 495, dtype: float64>\n",
      "Total number of unique values:  495\n",
      "--------------------\n",
      "Column name: mkt_cap <bound method Series.unique of 0      7.760774e+11\n",
      "1      3.390772e+11\n",
      "2      8.020588e+10\n",
      "3      6.556116e+10\n",
      "4      5.259607e+10\n",
      "           ...     \n",
      "490    6.809024e+07\n",
      "491    6.782627e+07\n",
      "492    6.776284e+07\n",
      "493    6.738822e+07\n",
      "494    6.731896e+07\n",
      "Name: mkt_cap, Length: 495, dtype: float64>\n",
      "Total number of unique values:  495\n",
      "--------------------\n",
      "Column name: date <bound method Series.unique of 0      2022-03-17\n",
      "1      2022-03-17\n",
      "2      2022-03-17\n",
      "3      2022-03-17\n",
      "4      2022-03-17\n",
      "          ...    \n",
      "490    2022-03-17\n",
      "491    2022-03-17\n",
      "492    2022-03-17\n",
      "493    2022-03-17\n",
      "494    2022-03-17\n",
      "Name: date, Length: 495, dtype: object>\n",
      "Total number of unique values:  1\n",
      "--------------------\n"
     ]
    }
   ],
   "source": [
    "list_all_column = list(df.columns)\n",
    "for i in list_all_column:\n",
    "    check_unique_value(i)"
   ]
  },
  {
   "cell_type": "markdown",
   "id": "948ff6db",
   "metadata": {},
   "source": [
    "3.6 Check statistics of datset"
   ]
  },
  {
   "cell_type": "code",
   "execution_count": 15,
   "id": "02627309",
   "metadata": {},
   "outputs": [
    {
     "data": {
      "text/html": [
       "<div>\n",
       "<style scoped>\n",
       "    .dataframe tbody tr th:only-of-type {\n",
       "        vertical-align: middle;\n",
       "    }\n",
       "\n",
       "    .dataframe tbody tr th {\n",
       "        vertical-align: top;\n",
       "    }\n",
       "\n",
       "    .dataframe thead th {\n",
       "        text-align: right;\n",
       "    }\n",
       "</style>\n",
       "<table border=\"1\" class=\"dataframe\">\n",
       "  <thead>\n",
       "    <tr style=\"text-align: right;\">\n",
       "      <th></th>\n",
       "      <th>price</th>\n",
       "      <th>1h</th>\n",
       "      <th>24h</th>\n",
       "      <th>7d</th>\n",
       "      <th>24h_volume</th>\n",
       "      <th>mkt_cap</th>\n",
       "    </tr>\n",
       "  </thead>\n",
       "  <tbody>\n",
       "    <tr>\n",
       "      <th>count</th>\n",
       "      <td>4.950000e+02</td>\n",
       "      <td>495.000000</td>\n",
       "      <td>495.000000</td>\n",
       "      <td>495.000000</td>\n",
       "      <td>4.950000e+02</td>\n",
       "      <td>4.950000e+02</td>\n",
       "    </tr>\n",
       "    <tr>\n",
       "      <th>mean</th>\n",
       "      <td>5.833849e+02</td>\n",
       "      <td>0.000582</td>\n",
       "      <td>0.019168</td>\n",
       "      <td>0.008038</td>\n",
       "      <td>2.491049e+08</td>\n",
       "      <td>3.823557e+09</td>\n",
       "    </tr>\n",
       "    <tr>\n",
       "      <th>std</th>\n",
       "      <td>4.248706e+03</td>\n",
       "      <td>0.033087</td>\n",
       "      <td>0.058928</td>\n",
       "      <td>0.252549</td>\n",
       "      <td>2.287919e+09</td>\n",
       "      <td>3.846057e+10</td>\n",
       "    </tr>\n",
       "    <tr>\n",
       "      <th>min</th>\n",
       "      <td>1.484000e-09</td>\n",
       "      <td>-0.704000</td>\n",
       "      <td>-0.646000</td>\n",
       "      <td>-0.558000</td>\n",
       "      <td>4.349000e+01</td>\n",
       "      <td>6.731896e+07</td>\n",
       "    </tr>\n",
       "    <tr>\n",
       "      <th>25%</th>\n",
       "      <td>2.040150e-01</td>\n",
       "      <td>-0.001000</td>\n",
       "      <td>0.000000</td>\n",
       "      <td>-0.051500</td>\n",
       "      <td>1.747366e+06</td>\n",
       "      <td>1.198010e+08</td>\n",
       "    </tr>\n",
       "    <tr>\n",
       "      <th>50%</th>\n",
       "      <td>1.100000e+00</td>\n",
       "      <td>0.001000</td>\n",
       "      <td>0.011000</td>\n",
       "      <td>-0.014000</td>\n",
       "      <td>7.848894e+06</td>\n",
       "      <td>2.180627e+08</td>\n",
       "    </tr>\n",
       "    <tr>\n",
       "      <th>75%</th>\n",
       "      <td>7.065000e+00</td>\n",
       "      <td>0.004000</td>\n",
       "      <td>0.030000</td>\n",
       "      <td>0.020000</td>\n",
       "      <td>3.537307e+07</td>\n",
       "      <td>6.103960e+08</td>\n",
       "    </tr>\n",
       "    <tr>\n",
       "      <th>max</th>\n",
       "      <td>4.090907e+04</td>\n",
       "      <td>0.095000</td>\n",
       "      <td>0.577000</td>\n",
       "      <td>4.608000</td>\n",
       "      <td>4.413140e+10</td>\n",
       "      <td>7.760774e+11</td>\n",
       "    </tr>\n",
       "  </tbody>\n",
       "</table>\n",
       "</div>"
      ],
      "text/plain": [
       "              price          1h         24h          7d    24h_volume  \\\n",
       "count  4.950000e+02  495.000000  495.000000  495.000000  4.950000e+02   \n",
       "mean   5.833849e+02    0.000582    0.019168    0.008038  2.491049e+08   \n",
       "std    4.248706e+03    0.033087    0.058928    0.252549  2.287919e+09   \n",
       "min    1.484000e-09   -0.704000   -0.646000   -0.558000  4.349000e+01   \n",
       "25%    2.040150e-01   -0.001000    0.000000   -0.051500  1.747366e+06   \n",
       "50%    1.100000e+00    0.001000    0.011000   -0.014000  7.848894e+06   \n",
       "75%    7.065000e+00    0.004000    0.030000    0.020000  3.537307e+07   \n",
       "max    4.090907e+04    0.095000    0.577000    4.608000  4.413140e+10   \n",
       "\n",
       "            mkt_cap  \n",
       "count  4.950000e+02  \n",
       "mean   3.823557e+09  \n",
       "std    3.846057e+10  \n",
       "min    6.731896e+07  \n",
       "25%    1.198010e+08  \n",
       "50%    2.180627e+08  \n",
       "75%    6.103960e+08  \n",
       "max    7.760774e+11  "
      ]
     },
     "execution_count": 15,
     "metadata": {},
     "output_type": "execute_result"
    }
   ],
   "source": [
    "df.describe()\n"
   ]
  },
  {
   "cell_type": "code",
   "execution_count": 16,
   "id": "75c90fa7",
   "metadata": {},
   "outputs": [
    {
     "data": {
      "text/html": [
       "<div>\n",
       "<style scoped>\n",
       "    .dataframe tbody tr th:only-of-type {\n",
       "        vertical-align: middle;\n",
       "    }\n",
       "\n",
       "    .dataframe tbody tr th {\n",
       "        vertical-align: top;\n",
       "    }\n",
       "\n",
       "    .dataframe thead th {\n",
       "        text-align: right;\n",
       "    }\n",
       "</style>\n",
       "<table border=\"1\" class=\"dataframe\">\n",
       "  <thead>\n",
       "    <tr style=\"text-align: right;\">\n",
       "      <th></th>\n",
       "      <th>price</th>\n",
       "      <th>1h</th>\n",
       "      <th>24h</th>\n",
       "      <th>7d</th>\n",
       "      <th>24h_volume</th>\n",
       "      <th>mkt_cap</th>\n",
       "    </tr>\n",
       "  </thead>\n",
       "  <tbody>\n",
       "    <tr>\n",
       "      <th>price</th>\n",
       "      <td>1.000000</td>\n",
       "      <td>-0.006380</td>\n",
       "      <td>-0.016317</td>\n",
       "      <td>0.008834</td>\n",
       "      <td>0.170351</td>\n",
       "      <td>0.398865</td>\n",
       "    </tr>\n",
       "    <tr>\n",
       "      <th>1h</th>\n",
       "      <td>-0.006380</td>\n",
       "      <td>1.000000</td>\n",
       "      <td>0.551244</td>\n",
       "      <td>0.110909</td>\n",
       "      <td>0.002707</td>\n",
       "      <td>0.004368</td>\n",
       "    </tr>\n",
       "    <tr>\n",
       "      <th>24h</th>\n",
       "      <td>-0.016317</td>\n",
       "      <td>0.551244</td>\n",
       "      <td>1.000000</td>\n",
       "      <td>0.509094</td>\n",
       "      <td>-0.005532</td>\n",
       "      <td>-0.012708</td>\n",
       "    </tr>\n",
       "    <tr>\n",
       "      <th>7d</th>\n",
       "      <td>0.008834</td>\n",
       "      <td>0.110909</td>\n",
       "      <td>0.509094</td>\n",
       "      <td>1.000000</td>\n",
       "      <td>0.021971</td>\n",
       "      <td>-0.004894</td>\n",
       "    </tr>\n",
       "    <tr>\n",
       "      <th>24h_volume</th>\n",
       "      <td>0.170351</td>\n",
       "      <td>0.002707</td>\n",
       "      <td>-0.005532</td>\n",
       "      <td>0.021971</td>\n",
       "      <td>1.000000</td>\n",
       "      <td>0.559681</td>\n",
       "    </tr>\n",
       "    <tr>\n",
       "      <th>mkt_cap</th>\n",
       "      <td>0.398865</td>\n",
       "      <td>0.004368</td>\n",
       "      <td>-0.012708</td>\n",
       "      <td>-0.004894</td>\n",
       "      <td>0.559681</td>\n",
       "      <td>1.000000</td>\n",
       "    </tr>\n",
       "  </tbody>\n",
       "</table>\n",
       "</div>"
      ],
      "text/plain": [
       "               price        1h       24h        7d  24h_volume   mkt_cap\n",
       "price       1.000000 -0.006380 -0.016317  0.008834    0.170351  0.398865\n",
       "1h         -0.006380  1.000000  0.551244  0.110909    0.002707  0.004368\n",
       "24h        -0.016317  0.551244  1.000000  0.509094   -0.005532 -0.012708\n",
       "7d          0.008834  0.110909  0.509094  1.000000    0.021971 -0.004894\n",
       "24h_volume  0.170351  0.002707 -0.005532  0.021971    1.000000  0.559681\n",
       "mkt_cap     0.398865  0.004368 -0.012708 -0.004894    0.559681  1.000000"
      ]
     },
     "execution_count": 16,
     "metadata": {},
     "output_type": "execute_result"
    }
   ],
   "source": [
    "df.corr(numeric_only=True)"
   ]
  },
  {
   "cell_type": "markdown",
   "id": "67e8396a",
   "metadata": {},
   "source": [
    "Insight: They had good relationship between their 24-hour trading volume and market cap."
   ]
  },
  {
   "cell_type": "markdown",
   "id": "cb4e327b",
   "metadata": {},
   "source": [
    "3.7 Define numerical and categorical column"
   ]
  },
  {
   "cell_type": "code",
   "execution_count": 17,
   "id": "3b896054",
   "metadata": {},
   "outputs": [],
   "source": [
    "numeric_features = [feature for feature in df.columns if df[feature].dtype != \"O\"] \n",
    "categorical_features = [feature for feature in df.columns if df[feature].dtype == \"O\"]"
   ]
  },
  {
   "cell_type": "code",
   "execution_count": 82,
   "id": "edcb106e",
   "metadata": {},
   "outputs": [],
   "source": [
    "df[\"Liquidity_score\"] = df[\"24h_volume\"]/df[\"mkt_cap\"]\n"
   ]
  },
  {
   "cell_type": "code",
   "execution_count": 19,
   "id": "a067afee",
   "metadata": {},
   "outputs": [
    {
     "data": {
      "text/plain": [
       "(9.722858811232702e-08, 5.9485448576620605)"
      ]
     },
     "execution_count": 19,
     "metadata": {},
     "output_type": "execute_result"
    }
   ],
   "source": [
    "df[\"Liquidity_score\"].min(),df[\"Liquidity_score\"].max()"
   ]
  },
  {
   "cell_type": "markdown",
   "id": "754dab9a",
   "metadata": {},
   "source": [
    "**5. EDA**"
   ]
  },
  {
   "cell_type": "markdown",
   "id": "debb7006",
   "metadata": {},
   "source": [
    "Q.1 What are the top 10 cryptocurrencies by market capitalization?"
   ]
  },
  {
   "cell_type": "code",
   "execution_count": 20,
   "id": "9d8ef92f",
   "metadata": {},
   "outputs": [
    {
     "data": {
      "text/plain": [
       "coin\n",
       "Bitcoin      7.760774e+11\n",
       "Ethereum     3.390772e+11\n",
       "Tether       8.020588e+10\n",
       "BNB          6.556116e+10\n",
       "USD Coin     5.259607e+10\n",
       "XRP          3.834236e+10\n",
       "Terra        3.225657e+10\n",
       "Solana       2.927060e+10\n",
       "Cardano      2.689173e+10\n",
       "Avalanche    2.128204e+10\n",
       "Name: mkt_cap, dtype: float64"
      ]
     },
     "execution_count": 20,
     "metadata": {},
     "output_type": "execute_result"
    }
   ],
   "source": [
    "df.groupby(\"coin\")[\"mkt_cap\"].max().sort_values(ascending=False)[0:10]"
   ]
  },
  {
   "cell_type": "markdown",
   "id": "a5d3a33b",
   "metadata": {},
   "source": [
    "Q.2 Which cryptocurrencies experienced the highest and lowest price changes over the last 24 hours?"
   ]
  },
  {
   "cell_type": "code",
   "execution_count": 21,
   "id": "94589150",
   "metadata": {},
   "outputs": [
    {
     "data": {
      "text/plain": [
       "(77    Xido Finance\n",
       " Name: coin, dtype: object,\n",
       " 430    bZx Protocol\n",
       " Name: coin, dtype: object)"
      ]
     },
     "execution_count": 21,
     "metadata": {},
     "output_type": "execute_result"
    }
   ],
   "source": [
    "high_change_24 = df[df[\"24h\"] == df[\"24h\"].max()][\"coin\"]\n",
    "low_change_24 = df[df[\"24h\"] == df[\"24h\"].min()][\"coin\"]\n",
    "\n",
    "high_change_24,low_change_24\n"
   ]
  },
  {
   "cell_type": "markdown",
   "id": "a20c3732",
   "metadata": {},
   "source": [
    "Insight: \n",
    "* Xido Finance had the highest price change in the past 24 hours\n",
    "* bZx Protocol had the lowest price change in the past 24 hours"
   ]
  },
  {
   "cell_type": "markdown",
   "id": "c5320f65",
   "metadata": {},
   "source": [
    "Q.3 Which cryptocurrencies had the most significant price changes over the past 7 days?"
   ]
  },
  {
   "cell_type": "code",
   "execution_count": 22,
   "id": "cfe02dee",
   "metadata": {},
   "outputs": [
    {
     "data": {
      "text/plain": [
       "154    STEPN\n",
       "Name: coin, dtype: object"
      ]
     },
     "execution_count": 22,
     "metadata": {},
     "output_type": "execute_result"
    }
   ],
   "source": [
    "df[df[\"7d\"].max() == df[\"7d\"]][\"coin\"]"
   ]
  },
  {
   "cell_type": "markdown",
   "id": "50fc4d3a",
   "metadata": {},
   "source": [
    "Insight:\n",
    "* STEPN had the most significant changes over the past 7 days"
   ]
  },
  {
   "cell_type": "markdown",
   "id": "7a4ce912",
   "metadata": {},
   "source": [
    "Q.4 How does the price volatility (1h, 24h, 7d) vary among the top 20 coins?"
   ]
  },
  {
   "cell_type": "code",
   "execution_count": 23,
   "id": "1b7cb31a",
   "metadata": {},
   "outputs": [
    {
     "data": {
      "text/plain": [
       "<Axes: xlabel='coin'>"
      ]
     },
     "execution_count": 23,
     "metadata": {},
     "output_type": "execute_result"
    },
    {
     "data": {
      "image/png": "[encoded data removed]",
      "text/plain": [
       "<Figure size 640x480 with 1 Axes>"
      ]
     },
     "metadata": {},
     "output_type": "display_data"
    }
   ],
   "source": [
    "df_top20Coin = df[[\"coin\",\"mkt_cap\",\"1h\",\"24h\",\"7d\"]].sort_values(by=\"mkt_cap\",ascending=False)[0:20]\n",
    "df_top20Coin.groupby(\"coin\")[[\"1h\",\"24h\",\"7d\"]].max().plot.bar()\n"
   ]
  },
  {
   "cell_type": "markdown",
   "id": "cc8d224c",
   "metadata": {},
   "source": [
    "Insights\n",
    "* In case of Terra coin,The price volatility more vary compare to others"
   ]
  },
  {
   "cell_type": "markdown",
   "id": "348ebad4",
   "metadata": {},
   "source": [
    "Q.5 Which cryptocurrencies have a high trading volume but relatively low market cap?"
   ]
  },
  {
   "cell_type": "code",
   "execution_count": 24,
   "id": "39afeb83",
   "metadata": {},
   "outputs": [
    {
     "data": {
      "text/html": [
       "<div>\n",
       "<style scoped>\n",
       "    .dataframe tbody tr th:only-of-type {\n",
       "        vertical-align: middle;\n",
       "    }\n",
       "\n",
       "    .dataframe tbody tr th {\n",
       "        vertical-align: top;\n",
       "    }\n",
       "\n",
       "    .dataframe thead th {\n",
       "        text-align: right;\n",
       "    }\n",
       "</style>\n",
       "<table border=\"1\" class=\"dataframe\">\n",
       "  <thead>\n",
       "    <tr style=\"text-align: right;\">\n",
       "      <th></th>\n",
       "      <th>coin</th>\n",
       "      <th>symbol</th>\n",
       "      <th>price</th>\n",
       "      <th>1h</th>\n",
       "      <th>24h</th>\n",
       "      <th>7d</th>\n",
       "      <th>24h_volume</th>\n",
       "      <th>mkt_cap</th>\n",
       "      <th>date</th>\n",
       "      <th>Liquidity_score</th>\n",
       "    </tr>\n",
       "  </thead>\n",
       "  <tbody>\n",
       "    <tr>\n",
       "      <th>154</th>\n",
       "      <td>STEPN</td>\n",
       "      <td>GMT</td>\n",
       "      <td>7.611810e-01</td>\n",
       "      <td>0.013</td>\n",
       "      <td>0.425</td>\n",
       "      <td>4.608</td>\n",
       "      <td>1.358531e+09</td>\n",
       "      <td>4.562513e+08</td>\n",
       "      <td>2022-03-17</td>\n",
       "      <td>2.977594e+00</td>\n",
       "    </tr>\n",
       "    <tr>\n",
       "      <th>191</th>\n",
       "      <td>FLEX Coin</td>\n",
       "      <td>FLEX</td>\n",
       "      <td>3.950000e+00</td>\n",
       "      <td>-0.000</td>\n",
       "      <td>-0.001</td>\n",
       "      <td>0.006</td>\n",
       "      <td>1.321112e+09</td>\n",
       "      <td>3.115018e+08</td>\n",
       "      <td>2022-03-17</td>\n",
       "      <td>4.241107e+00</td>\n",
       "    </tr>\n",
       "    <tr>\n",
       "      <th>27</th>\n",
       "      <td>Bitcoin Cash</td>\n",
       "      <td>BCH</td>\n",
       "      <td>2.976500e+02</td>\n",
       "      <td>0.002</td>\n",
       "      <td>0.006</td>\n",
       "      <td>-0.035</td>\n",
       "      <td>1.192569e+09</td>\n",
       "      <td>5.652414e+09</td>\n",
       "      <td>2022-03-17</td>\n",
       "      <td>2.109841e-01</td>\n",
       "    </tr>\n",
       "    <tr>\n",
       "      <th>35</th>\n",
       "      <td>The Sandbox</td>\n",
       "      <td>SAND</td>\n",
       "      <td>3.210000e+00</td>\n",
       "      <td>0.004</td>\n",
       "      <td>0.042</td>\n",
       "      <td>0.083</td>\n",
       "      <td>1.054427e+09</td>\n",
       "      <td>3.671953e+09</td>\n",
       "      <td>2022-03-17</td>\n",
       "      <td>2.871569e-01</td>\n",
       "    </tr>\n",
       "    <tr>\n",
       "      <th>83</th>\n",
       "      <td>Celo</td>\n",
       "      <td>CELO</td>\n",
       "      <td>3.010000e+00</td>\n",
       "      <td>-0.025</td>\n",
       "      <td>0.195</td>\n",
       "      <td>0.044</td>\n",
       "      <td>7.464944e+08</td>\n",
       "      <td>1.293158e+09</td>\n",
       "      <td>2022-03-17</td>\n",
       "      <td>5.772646e-01</td>\n",
       "    </tr>\n",
       "    <tr>\n",
       "      <th>...</th>\n",
       "      <td>...</td>\n",
       "      <td>...</td>\n",
       "      <td>...</td>\n",
       "      <td>...</td>\n",
       "      <td>...</td>\n",
       "      <td>...</td>\n",
       "      <td>...</td>\n",
       "      <td>...</td>\n",
       "      <td>...</td>\n",
       "      <td>...</td>\n",
       "    </tr>\n",
       "    <tr>\n",
       "      <th>283</th>\n",
       "      <td>Pundi X [OLD]</td>\n",
       "      <td>NPXS</td>\n",
       "      <td>7.390373e-04</td>\n",
       "      <td>0.005</td>\n",
       "      <td>0.230</td>\n",
       "      <td>-0.056</td>\n",
       "      <td>3.233810e+03</td>\n",
       "      <td>1.750215e+08</td>\n",
       "      <td>2022-03-17</td>\n",
       "      <td>1.847664e-05</td>\n",
       "    </tr>\n",
       "    <tr>\n",
       "      <th>52</th>\n",
       "      <td>cUSDC</td>\n",
       "      <td>CUSDC</td>\n",
       "      <td>2.255757e-02</td>\n",
       "      <td>0.002</td>\n",
       "      <td>0.001</td>\n",
       "      <td>0.001</td>\n",
       "      <td>1.167720e+03</td>\n",
       "      <td>2.466485e+09</td>\n",
       "      <td>2022-03-17</td>\n",
       "      <td>4.734350e-07</td>\n",
       "    </tr>\n",
       "    <tr>\n",
       "      <th>207</th>\n",
       "      <td>SafeMoon [OLD]</td>\n",
       "      <td>SAFEMOON</td>\n",
       "      <td>5.154230e-07</td>\n",
       "      <td>0.002</td>\n",
       "      <td>0.020</td>\n",
       "      <td>-0.009</td>\n",
       "      <td>8.791600e+02</td>\n",
       "      <td>2.778007e+08</td>\n",
       "      <td>2022-03-17</td>\n",
       "      <td>3.164715e-06</td>\n",
       "    </tr>\n",
       "    <tr>\n",
       "      <th>60</th>\n",
       "      <td>cDAI</td>\n",
       "      <td>CDAI</td>\n",
       "      <td>2.193790e-02</td>\n",
       "      <td>0.000</td>\n",
       "      <td>0.001</td>\n",
       "      <td>0.001</td>\n",
       "      <td>1.875400e+02</td>\n",
       "      <td>1.928857e+09</td>\n",
       "      <td>2022-03-17</td>\n",
       "      <td>9.722859e-08</td>\n",
       "    </tr>\n",
       "    <tr>\n",
       "      <th>430</th>\n",
       "      <td>bZx Protocol</td>\n",
       "      <td>BZRX</td>\n",
       "      <td>6.280911e-02</td>\n",
       "      <td>-0.704</td>\n",
       "      <td>-0.646</td>\n",
       "      <td>-0.464</td>\n",
       "      <td>4.349000e+01</td>\n",
       "      <td>8.897184e+07</td>\n",
       "      <td>2022-03-17</td>\n",
       "      <td>4.888063e-07</td>\n",
       "    </tr>\n",
       "  </tbody>\n",
       "</table>\n",
       "<p>477 rows × 10 columns</p>\n",
       "</div>"
      ],
      "text/plain": [
       "               coin    symbol         price     1h    24h     7d  \\\n",
       "154           STEPN       GMT  7.611810e-01  0.013  0.425  4.608   \n",
       "191       FLEX Coin      FLEX  3.950000e+00 -0.000 -0.001  0.006   \n",
       "27     Bitcoin Cash       BCH  2.976500e+02  0.002  0.006 -0.035   \n",
       "35      The Sandbox      SAND  3.210000e+00  0.004  0.042  0.083   \n",
       "83             Celo      CELO  3.010000e+00 -0.025  0.195  0.044   \n",
       "..              ...       ...           ...    ...    ...    ...   \n",
       "283   Pundi X [OLD]      NPXS  7.390373e-04  0.005  0.230 -0.056   \n",
       "52            cUSDC     CUSDC  2.255757e-02  0.002  0.001  0.001   \n",
       "207  SafeMoon [OLD]  SAFEMOON  5.154230e-07  0.002  0.020 -0.009   \n",
       "60             cDAI      CDAI  2.193790e-02  0.000  0.001  0.001   \n",
       "430    bZx Protocol      BZRX  6.280911e-02 -0.704 -0.646 -0.464   \n",
       "\n",
       "       24h_volume       mkt_cap        date  Liquidity_score  \n",
       "154  1.358531e+09  4.562513e+08  2022-03-17     2.977594e+00  \n",
       "191  1.321112e+09  3.115018e+08  2022-03-17     4.241107e+00  \n",
       "27   1.192569e+09  5.652414e+09  2022-03-17     2.109841e-01  \n",
       "35   1.054427e+09  3.671953e+09  2022-03-17     2.871569e-01  \n",
       "83   7.464944e+08  1.293158e+09  2022-03-17     5.772646e-01  \n",
       "..            ...           ...         ...              ...  \n",
       "283  3.233810e+03  1.750215e+08  2022-03-17     1.847664e-05  \n",
       "52   1.167720e+03  2.466485e+09  2022-03-17     4.734350e-07  \n",
       "207  8.791600e+02  2.778007e+08  2022-03-17     3.164715e-06  \n",
       "60   1.875400e+02  1.928857e+09  2022-03-17     9.722859e-08  \n",
       "430  4.349000e+01  8.897184e+07  2022-03-17     4.888063e-07  \n",
       "\n",
       "[477 rows x 10 columns]"
      ]
     },
     "execution_count": 24,
     "metadata": {},
     "output_type": "execute_result"
    }
   ],
   "source": [
    "# Define a threshold for low market cap\n",
    "low_cap_threshold = 10000000000\n",
    "df[df[\"mkt_cap\"] < low_cap_threshold].sort_values(by=\"24h_volume\",ascending=False)"
   ]
  },
  {
   "cell_type": "markdown",
   "id": "c064f00a",
   "metadata": {},
   "source": [
    "Insights: \n",
    "* STEPN\thave high trending volume but relatively they have low market cap"
   ]
  },
  {
   "cell_type": "markdown",
   "id": "2f12e3c6",
   "metadata": {},
   "source": [
    "Q.6 How many coins experienced positive growth across all three timeframes (1h, 24h, 7d)?"
   ]
  },
  {
   "cell_type": "code",
   "execution_count": 25,
   "id": "2747cc8b",
   "metadata": {},
   "outputs": [
    {
     "data": {
      "text/plain": [
       "121"
      ]
     },
     "execution_count": 25,
     "metadata": {},
     "output_type": "execute_result"
    }
   ],
   "source": [
    "len(df[((df[\"1h\"] >= 0) & (df[\"24h\"] >= 0) & (df['7d'] >= 0))])"
   ]
  },
  {
   "cell_type": "markdown",
   "id": "627dd3ad",
   "metadata": {},
   "source": [
    "Insights:\n",
    "* 121 coins experienced positive growth across all three timeframes"
   ]
  },
  {
   "cell_type": "markdown",
   "id": "3b4ca804",
   "metadata": {},
   "source": [
    "Q.7 Which coins have the highest market cap and how do they compare visually?\n",
    "→ Bar chart of top 10 coins by market cap."
   ]
  },
  {
   "cell_type": "code",
   "execution_count": 26,
   "id": "ffe0f173",
   "metadata": {},
   "outputs": [
    {
     "data": {
      "image/png": "[encoded data removed]",
      "text/plain": [
       "<Figure size 800x400 with 1 Axes>"
      ]
     },
     "metadata": {},
     "output_type": "display_data"
    }
   ],
   "source": [
    "plt.figure(figsize=(8,4))\n",
    "df.groupby(df[\"coin\"])[\"mkt_cap\"].max().sort_values(ascending=False)[0:10].plot.bar()\n",
    "plt.xlabel(\"Top 10 coin\")\n",
    "plt.ylabel(\"mkt_cap (* 10^11)\")\n",
    "plt.grid()\n",
    "plt.show()"
   ]
  },
  {
   "cell_type": "markdown",
   "id": "0f2483d2",
   "metadata": {},
   "source": [
    "Q.8 How are 24h trading volume and market cap related?\n",
    "→ Scatter plot with log scales."
   ]
  },
  {
   "cell_type": "code",
   "execution_count": 27,
   "id": "c0a612d6",
   "metadata": {},
   "outputs": [
    {
     "data": {
      "image/png": "[encoded data removed]",
      "text/plain": [
       "<Figure size 500x500 with 1 Axes>"
      ]
     },
     "metadata": {},
     "output_type": "display_data"
    }
   ],
   "source": [
    "plt.figure(figsize=(5,5))\n",
    "plt.scatter(df[\"24h_volume\"],df[\"mkt_cap\"])\n",
    "plt.show()"
   ]
  },
  {
   "cell_type": "markdown",
   "id": "cc9a4d7a",
   "metadata": {},
   "source": [
    "Note : 3 outlier data are here so need outlier treatment"
   ]
  },
  {
   "cell_type": "markdown",
   "id": "24add4ec",
   "metadata": {},
   "source": [
    "Q.9 Which coins had consistent positive growth across 1h, 24h, and 7d?\n",
    "→ Venn diagram or grouped bar chart for time-based changes."
   ]
  },
  {
   "cell_type": "code",
   "execution_count": 28,
   "id": "9520584b",
   "metadata": {},
   "outputs": [
    {
     "data": {
      "text/plain": [
       "<Axes: xlabel='coin'>"
      ]
     },
     "execution_count": 28,
     "metadata": {},
     "output_type": "execute_result"
    },
    {
     "data": {
      "image/png": "[encoded data removed]",
      "text/plain": [
       "<Figure size 640x480 with 1 Axes>"
      ]
     },
     "metadata": {},
     "output_type": "display_data"
    }
   ],
   "source": [
    "\n",
    "df[((df[\"1h\"] >= 0) & (df[\"24h\"] >= 0) & (df['7d'] >= 0))][[\"coin\",\"1h\",\"24h\",\"7d\"]][0:20].plot.bar(x=\"coin\")"
   ]
  },
  {
   "cell_type": "markdown",
   "id": "0df635db",
   "metadata": {},
   "source": [
    "Q.10 What percentage of coins had positive vs. negative changes over the last 24 hours?\n",
    "→ Pie chart or bar chart (count of positive/negative)."
   ]
  },
  {
   "cell_type": "code",
   "execution_count": 29,
   "id": "d0f1cab5",
   "metadata": {},
   "outputs": [
    {
     "data": {
      "image/png": "[encoded data removed]",
      "text/plain": [
       "<Figure size 640x480 with 1 Axes>"
      ]
     },
     "metadata": {},
     "output_type": "display_data"
    }
   ],
   "source": [
    "positive_change = (len(df[df[\"24h\"] >= 0]) / len(df)) * 100\n",
    "negative_change = (len(df[df[\"24h\"] < 0]) / len(df)) * 100\n",
    "changes = [\"Positive_change\",\"Negative_change\"]\n",
    "plt.pie(x=[positive_change,negative_change],labels=changes)\n",
    "\n",
    "plt.show()\n"
   ]
  },
  {
   "cell_type": "markdown",
   "id": "e518973d",
   "metadata": {},
   "source": [
    "**Model Train**"
   ]
  },
  {
   "cell_type": "code",
   "execution_count": 71,
   "id": "f3f8bd8c",
   "metadata": {},
   "outputs": [],
   "source": [
    "from sklearn.model_selection import train_test_split\n",
    "from sklearn.tree import DecisionTreeRegressor\n",
    "from sklearn.svm import SVR\n",
    "from sklearn.ensemble import RandomForestRegressor\n",
    "from sklearn.linear_model import LinearRegression,Lasso,Ridge\n",
    "from sklearn.model_selection import RandomizedSearchCV\n",
    "from sklearn.preprocessing import LabelEncoder\n",
    "\n",
    "from sklearn.metrics import r2_score,mean_squared_error\n",
    "\n",
    "import warnings\n",
    "warnings.filterwarnings(\"ignore\")"
   ]
  },
  {
   "cell_type": "markdown",
   "id": "85bd3261",
   "metadata": {},
   "source": [
    "Define X and Y"
   ]
  },
  {
   "cell_type": "code",
   "execution_count": 73,
   "id": "e1b807da",
   "metadata": {},
   "outputs": [
    {
     "data": {
      "text/plain": [
       "Index(['coin', 'symbol', 'price', '1h', '24h', '7d', '24h_volume', 'mkt_cap',\n",
       "       'date', 'Liquidity_score'],\n",
       "      dtype='object')"
      ]
     },
     "execution_count": 73,
     "metadata": {},
     "output_type": "execute_result"
    }
   ],
   "source": [
    "df.columns"
   ]
  },
  {
   "cell_type": "code",
   "execution_count": 83,
   "id": "a8b4538e",
   "metadata": {},
   "outputs": [],
   "source": [
    "x = df.drop([\"coin\",\"symbol\",\"date\",\"mkt_cap\"],axis=1)\n",
    "y = df[\"mkt_cap\"]"
   ]
  },
  {
   "cell_type": "markdown",
   "id": "f58e02ec",
   "metadata": {},
   "source": [
    "Train-Test split"
   ]
  },
  {
   "cell_type": "code",
   "execution_count": 84,
   "id": "75b13831",
   "metadata": {},
   "outputs": [],
   "source": [
    "x_train,x_test,y_train,y_test = train_test_split(x,y,test_size=0.2,random_state=1)"
   ]
  },
  {
   "cell_type": "code",
   "execution_count": 85,
   "id": "6672809a",
   "metadata": {},
   "outputs": [
    {
     "data": {
      "text/plain": [
       "((396, 6), (99, 6))"
      ]
     },
     "execution_count": 85,
     "metadata": {},
     "output_type": "execute_result"
    }
   ],
   "source": [
    "x_train.shape,x_test.shape"
   ]
  },
  {
   "cell_type": "markdown",
   "id": "743a99c4",
   "metadata": {},
   "source": [
    "Create an Evaluate Function to give all metrics after model Training"
   ]
  },
  {
   "cell_type": "code",
   "execution_count": 86,
   "id": "02b4e50c",
   "metadata": {},
   "outputs": [],
   "source": [
    "def evaluate_model(true,predicted):\n",
    "    r2 = r2_score(true,predicted)\n",
    "    mse = mean_squared_error(true,predicted)\n",
    "    return r2,mse"
   ]
  },
  {
   "cell_type": "code",
   "execution_count": 87,
   "id": "866ef773",
   "metadata": {},
   "outputs": [
    {
     "name": "stdout",
     "output_type": "stream",
     "text": [
      "Linear Regression\n",
      "Model performance for training set\n",
      "r2 score 0.40686465765971125\n",
      "MSE  1.085783506744696e+21\n",
      "Model performance for test set\n",
      "r2 score 0.7492502636285394\n",
      "MSE  1.3670649939784157e+19\n",
      "--------------------\n",
      "Lasso\n",
      "Model performance for training set\n",
      "r2 score 0.4068646576597116\n",
      "MSE  1.0857835067446953e+21\n",
      "Model performance for test set\n",
      "r2 score 0.7492502747957992\n",
      "MSE  1.3670649330955198e+19\n",
      "--------------------\n",
      "Ridge\n",
      "Model performance for training set\n",
      "r2 score 0.4068579344286616\n",
      "MSE  1.0857958141775273e+21\n",
      "Model performance for test set\n",
      "r2 score 0.7499278438004827\n",
      "MSE  1.3633708878665538e+19\n",
      "--------------------\n",
      "Decision TreeRegressor\n",
      "Model performance for training set\n",
      "r2 score 1.0\n",
      "MSE  0.0\n",
      "Model performance for test set\n",
      "r2 score 0.19669877233392885\n",
      "MSE  4.379525992144414e+19\n",
      "--------------------\n",
      "RandomForest Regressor\n",
      "Model performance for training set\n",
      "r2 score 0.879618402166887\n",
      "MSE  2.2036851307332508e+20\n",
      "Model performance for test set\n",
      "r2 score 0.8770582986258721\n",
      "MSE  6.70267090529421e+18\n",
      "--------------------\n",
      "SVR\n",
      "Model performance for training set\n",
      "r2 score -0.009001516887157335\n",
      "MSE  1.8470610788320233e+21\n",
      "Model performance for test set\n",
      "r2 score -0.05584611542374596\n",
      "MSE  5.75637798990795e+19\n",
      "--------------------\n"
     ]
    }
   ],
   "source": [
    "models = {\n",
    "    \"Linear Regression\" : LinearRegression(),\n",
    "    \"Lasso\" : Lasso(),\n",
    "    \"Ridge\" : Ridge(),\n",
    "    \"Decision TreeRegressor\": DecisionTreeRegressor(),\n",
    "    \"RandomForest Regressor\" : RandomForestRegressor(),\n",
    "    \"SVR\" : SVR()\n",
    "}\n",
    "\n",
    "model_list = []\n",
    "r2_List = []\n",
    "\n",
    "for i in range(len(list(models))):\n",
    "    model = list(models.values())[i]\n",
    "    #Train model\n",
    "    model.fit(x_train,y_train)\n",
    "\n",
    "    y_train_pred = model.predict(x_train)\n",
    "    y_test_pred = model.predict(x_test)\n",
    "\n",
    "    #Evaluate The model\n",
    "    model_train_r2,model_train_mse = evaluate_model(y_train,y_train_pred)\n",
    "    model_test_r2,model_test_mse = evaluate_model(y_test,y_test_pred)\n",
    "\n",
    "    print(list(models.keys())[i])\n",
    "    model_list.append(list(models.keys())[i])\n",
    "    print(\"Model performance for training set\")\n",
    "    print(\"r2 score\",model_train_r2)\n",
    "    print(\"MSE \",model_train_mse)\n",
    "\n",
    "    \n",
    "\n",
    "    print(\"Model performance for test set\")\n",
    "    print(\"r2 score\",model_test_r2)\n",
    "    print(\"MSE \",model_test_mse)\n",
    "    print(\"--------------------\")\n",
    "    r2_List.append(model_test_r2)\n"
   ]
  },
  {
   "cell_type": "code",
   "execution_count": 88,
   "id": "ce3b14a2",
   "metadata": {},
   "outputs": [
    {
     "data": {
      "text/html": [
       "<div>\n",
       "<style scoped>\n",
       "    .dataframe tbody tr th:only-of-type {\n",
       "        vertical-align: middle;\n",
       "    }\n",
       "\n",
       "    .dataframe tbody tr th {\n",
       "        vertical-align: top;\n",
       "    }\n",
       "\n",
       "    .dataframe thead th {\n",
       "        text-align: right;\n",
       "    }\n",
       "</style>\n",
       "<table border=\"1\" class=\"dataframe\">\n",
       "  <thead>\n",
       "    <tr style=\"text-align: right;\">\n",
       "      <th></th>\n",
       "      <th>Model_List</th>\n",
       "      <th>r2_score</th>\n",
       "    </tr>\n",
       "  </thead>\n",
       "  <tbody>\n",
       "    <tr>\n",
       "      <th>4</th>\n",
       "      <td>RandomForest Regressor</td>\n",
       "      <td>0.877058</td>\n",
       "    </tr>\n",
       "    <tr>\n",
       "      <th>2</th>\n",
       "      <td>Ridge</td>\n",
       "      <td>0.749928</td>\n",
       "    </tr>\n",
       "    <tr>\n",
       "      <th>1</th>\n",
       "      <td>Lasso</td>\n",
       "      <td>0.749250</td>\n",
       "    </tr>\n",
       "    <tr>\n",
       "      <th>0</th>\n",
       "      <td>Linear Regression</td>\n",
       "      <td>0.749250</td>\n",
       "    </tr>\n",
       "    <tr>\n",
       "      <th>3</th>\n",
       "      <td>Decision TreeRegressor</td>\n",
       "      <td>0.196699</td>\n",
       "    </tr>\n",
       "    <tr>\n",
       "      <th>5</th>\n",
       "      <td>SVR</td>\n",
       "      <td>-0.055846</td>\n",
       "    </tr>\n",
       "  </tbody>\n",
       "</table>\n",
       "</div>"
      ],
      "text/plain": [
       "               Model_List  r2_score\n",
       "4  RandomForest Regressor  0.877058\n",
       "2                   Ridge  0.749928\n",
       "1                   Lasso  0.749250\n",
       "0       Linear Regression  0.749250\n",
       "3  Decision TreeRegressor  0.196699\n",
       "5                     SVR -0.055846"
      ]
     },
     "execution_count": 88,
     "metadata": {},
     "output_type": "execute_result"
    }
   ],
   "source": [
    "pd.DataFrame(list(zip(model_list,r2_List)),columns=[\"Model_List\",\"r2_score\"]).sort_values(by=[\"r2_score\"],ascending=False)"
   ]
  },
  {
   "cell_type": "code",
   "execution_count": null,
   "id": "18fbee99",
   "metadata": {},
   "outputs": [],
   "source": []
  }
 ],
 "metadata": {
  "kernelspec": {
   "display_name": "Python 3",
   "language": "python",
   "name": "python3"
  },
  "language_info": {
   "codemirror_mode": {
    "name": "ipython",
    "version": 3
   },
   "file_extension": ".py",
   "mimetype": "text/x-python",
   "name": "python",
   "nbconvert_exporter": "python",
   "pygments_lexer": "ipython3",
   "version": "3.8.0"
  }
 },
 "nbformat": 4,
 "nbformat_minor": 5
}
